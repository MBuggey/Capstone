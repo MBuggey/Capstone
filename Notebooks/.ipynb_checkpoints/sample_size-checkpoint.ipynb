{
 "cells": [
  {
   "cell_type": "code",
   "execution_count": null,
   "id": "eeac7711",
   "metadata": {},
   "outputs": [],
   "source": []
  },
  {
   "cell_type": "code",
   "execution_count": 1,
   "id": "92425823",
   "metadata": {
    "id": "92425823"
   },
   "outputs": [],
   "source": [
    "import pandas as pd\n",
    "import numpy as np\n",
    "import matplotlib.pyplot as plt\n",
    "\n",
    "from scipy import stats\n",
    "import scipy as sci"
   ]
  },
  {
   "cell_type": "code",
   "execution_count": null,
   "id": "3bKSfnqBZHvf",
   "metadata": {
    "colab": {
     "base_uri": "https://localhost:8080/"
    },
    "id": "3bKSfnqBZHvf",
    "outputId": "93d9d194-5154-4431-b9de-4adfe34405df"
   },
   "outputs": [],
   "source": []
  },
  {
   "cell_type": "code",
   "execution_count": 2,
   "id": "3e02c273",
   "metadata": {
    "id": "3e02c273"
   },
   "outputs": [],
   "source": [
    "games = pd.read_csv('../Data/games.csv')\n",
    "users = pd.read_csv('../Data/users.csv')\n",
    "recommendations = pd.read_csv('../Data/recommendations.csv')"
   ]
  },
  {
   "cell_type": "code",
   "execution_count": 3,
   "id": "683840f0",
   "metadata": {
    "id": "683840f0"
   },
   "outputs": [],
   "source": [
    "games['date_release'] = pd.to_datetime(games['date_release'])"
   ]
  },
  {
   "cell_type": "code",
   "execution_count": 4,
   "id": "b0908efc",
   "metadata": {
    "id": "b0908efc"
   },
   "outputs": [],
   "source": [
    "games[['win','mac','linux','steam_deck']] = games[['win','mac','linux','steam_deck']].astype(int)"
   ]
  },
  {
   "cell_type": "code",
   "execution_count": 5,
   "id": "939b9965",
   "metadata": {
    "colab": {
     "base_uri": "https://localhost:8080/",
     "height": 206
    },
    "id": "939b9965",
    "outputId": "5e4b989a-a91f-41ac-de95-f2c4476e9cd8"
   },
   "outputs": [
    {
     "data": {
      "text/html": [
       "<div>\n",
       "<style scoped>\n",
       "    .dataframe tbody tr th:only-of-type {\n",
       "        vertical-align: middle;\n",
       "    }\n",
       "\n",
       "    .dataframe tbody tr th {\n",
       "        vertical-align: top;\n",
       "    }\n",
       "\n",
       "    .dataframe thead th {\n",
       "        text-align: right;\n",
       "    }\n",
       "</style>\n",
       "<table border=\"1\" class=\"dataframe\">\n",
       "  <thead>\n",
       "    <tr style=\"text-align: right;\">\n",
       "      <th></th>\n",
       "      <th>app_id</th>\n",
       "      <th>title</th>\n",
       "      <th>date_release</th>\n",
       "      <th>win</th>\n",
       "      <th>mac</th>\n",
       "      <th>linux</th>\n",
       "      <th>rating</th>\n",
       "      <th>positive_ratio</th>\n",
       "      <th>user_reviews</th>\n",
       "      <th>price_final</th>\n",
       "      <th>price_original</th>\n",
       "      <th>discount</th>\n",
       "      <th>steam_deck</th>\n",
       "    </tr>\n",
       "  </thead>\n",
       "  <tbody>\n",
       "    <tr>\n",
       "      <th>0</th>\n",
       "      <td>13500</td>\n",
       "      <td>Prince of Persia: Warrior Within™</td>\n",
       "      <td>2008-11-21</td>\n",
       "      <td>1</td>\n",
       "      <td>0</td>\n",
       "      <td>0</td>\n",
       "      <td>Very Positive</td>\n",
       "      <td>84</td>\n",
       "      <td>2199</td>\n",
       "      <td>9.99</td>\n",
       "      <td>9.99</td>\n",
       "      <td>0.0</td>\n",
       "      <td>1</td>\n",
       "    </tr>\n",
       "    <tr>\n",
       "      <th>1</th>\n",
       "      <td>22364</td>\n",
       "      <td>BRINK: Agents of Change</td>\n",
       "      <td>2011-08-03</td>\n",
       "      <td>1</td>\n",
       "      <td>0</td>\n",
       "      <td>0</td>\n",
       "      <td>Positive</td>\n",
       "      <td>85</td>\n",
       "      <td>21</td>\n",
       "      <td>2.99</td>\n",
       "      <td>2.99</td>\n",
       "      <td>0.0</td>\n",
       "      <td>1</td>\n",
       "    </tr>\n",
       "    <tr>\n",
       "      <th>2</th>\n",
       "      <td>113020</td>\n",
       "      <td>Monaco: What's Yours Is Mine</td>\n",
       "      <td>2013-04-24</td>\n",
       "      <td>1</td>\n",
       "      <td>1</td>\n",
       "      <td>1</td>\n",
       "      <td>Very Positive</td>\n",
       "      <td>92</td>\n",
       "      <td>3722</td>\n",
       "      <td>14.99</td>\n",
       "      <td>14.99</td>\n",
       "      <td>0.0</td>\n",
       "      <td>1</td>\n",
       "    </tr>\n",
       "    <tr>\n",
       "      <th>3</th>\n",
       "      <td>226560</td>\n",
       "      <td>Escape Dead Island</td>\n",
       "      <td>2014-11-18</td>\n",
       "      <td>1</td>\n",
       "      <td>0</td>\n",
       "      <td>0</td>\n",
       "      <td>Mixed</td>\n",
       "      <td>61</td>\n",
       "      <td>873</td>\n",
       "      <td>14.99</td>\n",
       "      <td>14.99</td>\n",
       "      <td>0.0</td>\n",
       "      <td>1</td>\n",
       "    </tr>\n",
       "    <tr>\n",
       "      <th>4</th>\n",
       "      <td>249050</td>\n",
       "      <td>Dungeon of the ENDLESS™</td>\n",
       "      <td>2014-10-27</td>\n",
       "      <td>1</td>\n",
       "      <td>1</td>\n",
       "      <td>0</td>\n",
       "      <td>Very Positive</td>\n",
       "      <td>88</td>\n",
       "      <td>8784</td>\n",
       "      <td>11.99</td>\n",
       "      <td>11.99</td>\n",
       "      <td>0.0</td>\n",
       "      <td>1</td>\n",
       "    </tr>\n",
       "  </tbody>\n",
       "</table>\n",
       "</div>"
      ],
      "text/plain": [
       "   app_id                              title date_release  win  mac  linux  \\\n",
       "0   13500  Prince of Persia: Warrior Within™   2008-11-21    1    0      0   \n",
       "1   22364            BRINK: Agents of Change   2011-08-03    1    0      0   \n",
       "2  113020       Monaco: What's Yours Is Mine   2013-04-24    1    1      1   \n",
       "3  226560                 Escape Dead Island   2014-11-18    1    0      0   \n",
       "4  249050            Dungeon of the ENDLESS™   2014-10-27    1    1      0   \n",
       "\n",
       "          rating  positive_ratio  user_reviews  price_final  price_original  \\\n",
       "0  Very Positive              84          2199         9.99            9.99   \n",
       "1       Positive              85            21         2.99            2.99   \n",
       "2  Very Positive              92          3722        14.99           14.99   \n",
       "3          Mixed              61           873        14.99           14.99   \n",
       "4  Very Positive              88          8784        11.99           11.99   \n",
       "\n",
       "   discount  steam_deck  \n",
       "0       0.0           1  \n",
       "1       0.0           1  \n",
       "2       0.0           1  \n",
       "3       0.0           1  \n",
       "4       0.0           1  "
      ]
     },
     "execution_count": 5,
     "metadata": {},
     "output_type": "execute_result"
    }
   ],
   "source": [
    "games.head()"
   ]
  },
  {
   "cell_type": "code",
   "execution_count": 6,
   "id": "cde48b2c",
   "metadata": {
    "colab": {
     "base_uri": "https://localhost:8080/",
     "height": 206
    },
    "id": "cde48b2c",
    "outputId": "3f9828a3-35c9-44bb-a6e0-3a962a45c799"
   },
   "outputs": [
    {
     "data": {
      "text/html": [
       "<div>\n",
       "<style scoped>\n",
       "    .dataframe tbody tr th:only-of-type {\n",
       "        vertical-align: middle;\n",
       "    }\n",
       "\n",
       "    .dataframe tbody tr th {\n",
       "        vertical-align: top;\n",
       "    }\n",
       "\n",
       "    .dataframe thead th {\n",
       "        text-align: right;\n",
       "    }\n",
       "</style>\n",
       "<table border=\"1\" class=\"dataframe\">\n",
       "  <thead>\n",
       "    <tr style=\"text-align: right;\">\n",
       "      <th></th>\n",
       "      <th>user_id</th>\n",
       "      <th>products</th>\n",
       "      <th>reviews</th>\n",
       "    </tr>\n",
       "  </thead>\n",
       "  <tbody>\n",
       "    <tr>\n",
       "      <th>0</th>\n",
       "      <td>7360263</td>\n",
       "      <td>359</td>\n",
       "      <td>0</td>\n",
       "    </tr>\n",
       "    <tr>\n",
       "      <th>1</th>\n",
       "      <td>14020781</td>\n",
       "      <td>156</td>\n",
       "      <td>1</td>\n",
       "    </tr>\n",
       "    <tr>\n",
       "      <th>2</th>\n",
       "      <td>8762579</td>\n",
       "      <td>329</td>\n",
       "      <td>4</td>\n",
       "    </tr>\n",
       "    <tr>\n",
       "      <th>3</th>\n",
       "      <td>4820647</td>\n",
       "      <td>176</td>\n",
       "      <td>4</td>\n",
       "    </tr>\n",
       "    <tr>\n",
       "      <th>4</th>\n",
       "      <td>5167327</td>\n",
       "      <td>98</td>\n",
       "      <td>2</td>\n",
       "    </tr>\n",
       "  </tbody>\n",
       "</table>\n",
       "</div>"
      ],
      "text/plain": [
       "    user_id  products  reviews\n",
       "0   7360263       359        0\n",
       "1  14020781       156        1\n",
       "2   8762579       329        4\n",
       "3   4820647       176        4\n",
       "4   5167327        98        2"
      ]
     },
     "execution_count": 6,
     "metadata": {},
     "output_type": "execute_result"
    }
   ],
   "source": [
    "users.head()"
   ]
  },
  {
   "cell_type": "code",
   "execution_count": 7,
   "id": "00db04ab",
   "metadata": {
    "colab": {
     "base_uri": "https://localhost:8080/"
    },
    "id": "00db04ab",
    "outputId": "fcce318e-568f-4742-955c-752da53e58ec"
   },
   "outputs": [
    {
     "name": "stdout",
     "output_type": "stream",
     "text": [
      "Requirement already satisfied: tqdm in c:\\users\\matth\\anaconda3new\\lib\\site-packages (4.65.0)\n",
      "Requirement already satisfied: colorama in c:\\users\\matth\\anaconda3new\\lib\\site-packages (from tqdm) (0.4.6)\n",
      "Note: you may need to restart the kernel to use updated packages.\n"
     ]
    }
   ],
   "source": [
    "pip install tqdm"
   ]
  },
  {
   "cell_type": "code",
   "execution_count": null,
   "id": "f78e7703",
   "metadata": {},
   "outputs": [],
   "source": [
    "# Count the number of interactions for each user\n",
    "user_interaction_counts = recommendations['user_id'].value_counts()\n",
    "\n",
    "# Select users above the 75th percentile in terms of interaction count\n",
    "threshold = user_interaction_counts.quantile(0.75)\n",
    "active_users = user_interaction_counts[user_interaction_counts >= threshold].index\n",
    "\n",
    "# Filter the users DataFrame\n",
    "filtered_users = users[users['user_id'].isin(active_users)]\n",
    "\n",
    "# Filter the recommendations DataFrame\n",
    "filtered_recommendations = recommendations[recommendations['user_id'].isin(active_users)]\n",
    "\n",
    "# Count the number of interactions for each user\n",
    "user_interaction_counts = recommendations['user_id'].value_counts()\n",
    "\n",
    "# Select users above the 75th percentile in terms of interaction count\n",
    "threshold = user_interaction_counts.quantile(0.75)\n",
    "active_users = user_interaction_counts[user_interaction_counts >= threshold].index\n",
    "\n",
    "# Filter the users DataFrame\n",
    "filtered_users = users[users['user_id'].isin(active_users)]\n",
    "\n",
    "# Filter the recommendations DataFrame\n",
    "filtered_recommendations = recommendations[recommendations['user_id'].isin(active_users)]"
   ]
  },
  {
   "cell_type": "code",
   "execution_count": 10,
   "id": "fc14a2ff",
   "metadata": {},
   "outputs": [],
   "source": [
    "# Count the number of interactions for each user\n",
    "user_interaction_counts = recommendations['user_id'].value_counts()\n"
   ]
  },
  {
   "cell_type": "code",
   "execution_count": 11,
   "id": "1159ab0c",
   "metadata": {},
   "outputs": [],
   "source": [
    "# Select users above the 75th percentile in terms of interaction count\n",
    "threshold = user_interaction_counts.quantile(0.75)\n",
    "active_users = user_interaction_counts[user_interaction_counts >= threshold].index\n"
   ]
  },
  {
   "cell_type": "code",
   "execution_count": 12,
   "id": "f95d0bc7",
   "metadata": {},
   "outputs": [],
   "source": [
    "# Filter the users DataFrame\n",
    "filtered_users = users[users['user_id'].isin(active_users)]\n"
   ]
  },
  {
   "cell_type": "code",
   "execution_count": 13,
   "id": "7bb7ea80",
   "metadata": {},
   "outputs": [],
   "source": [
    "# Filter the recommendations DataFrame\n",
    "filtered_recommendations = recommendations[recommendations['user_id'].isin(active_users)]\n"
   ]
  },
  {
   "cell_type": "code",
   "execution_count": 14,
   "id": "1f622fff",
   "metadata": {},
   "outputs": [],
   "source": [
    "# Count the number of interactions for each user\n",
    "user_interaction_counts = recommendations['user_id'].value_counts()\n",
    "\n",
    "# Select users above the 75th percentile in terms of interaction count\n",
    "threshold = user_interaction_counts.quantile(0.75)\n",
    "active_users = user_interaction_counts[user_interaction_counts >= threshold].index\n",
    "\n",
    "# Filter the users DataFrame\n",
    "filtered_users = users[users['user_id'].isin(active_users)]\n",
    "\n",
    "# Filter the recommendations DataFrame\n",
    "filtered_recommendations = recommendations[recommendations['user_id'].isin(active_users)]\n"
   ]
  },
  {
   "cell_type": "code",
   "execution_count": 15,
   "id": "1ccd7a66",
   "metadata": {},
   "outputs": [
    {
     "name": "stdout",
     "output_type": "stream",
     "text": [
      "Requirement already satisfied: lightfm in c:\\users\\matth\\anaconda3new\\lib\\site-packages (1.17)Note: you may need to restart the kernel to use updated packages.\n",
      "\n",
      "Requirement already satisfied: numpy in c:\\users\\matth\\anaconda3new\\lib\\site-packages (from lightfm) (1.24.3)\n",
      "Requirement already satisfied: scipy>=0.17.0 in c:\\users\\matth\\anaconda3new\\lib\\site-packages (from lightfm) (1.11.1)\n",
      "Requirement already satisfied: requests in c:\\users\\matth\\anaconda3new\\lib\\site-packages (from lightfm) (2.31.0)\n",
      "Requirement already satisfied: scikit-learn in c:\\users\\matth\\anaconda3new\\lib\\site-packages (from lightfm) (1.3.0)\n",
      "Requirement already satisfied: charset-normalizer<4,>=2 in c:\\users\\matth\\anaconda3new\\lib\\site-packages (from requests->lightfm) (2.0.4)\n",
      "Requirement already satisfied: idna<4,>=2.5 in c:\\users\\matth\\anaconda3new\\lib\\site-packages (from requests->lightfm) (3.4)\n",
      "Requirement already satisfied: urllib3<3,>=1.21.1 in c:\\users\\matth\\anaconda3new\\lib\\site-packages (from requests->lightfm) (1.26.16)\n",
      "Requirement already satisfied: certifi>=2017.4.17 in c:\\users\\matth\\anaconda3new\\lib\\site-packages (from requests->lightfm) (2023.11.17)\n",
      "Requirement already satisfied: joblib>=1.1.1 in c:\\users\\matth\\anaconda3new\\lib\\site-packages (from scikit-learn->lightfm) (1.2.0)\n",
      "Requirement already satisfied: threadpoolctl>=2.0.0 in c:\\users\\matth\\anaconda3new\\lib\\site-packages (from scikit-learn->lightfm) (2.2.0)\n"
     ]
    }
   ],
   "source": [
    "pip install lightfm"
   ]
  },
  {
   "cell_type": "code",
   "execution_count": null,
   "id": "bb3cc1f6",
   "metadata": {},
   "outputs": [],
   "source": []
  },
  {
   "cell_type": "code",
   "execution_count": null,
   "id": "c42bfc37",
   "metadata": {},
   "outputs": [],
   "source": []
  },
  {
   "cell_type": "code",
   "execution_count": null,
   "id": "ef94a3d3",
   "metadata": {},
   "outputs": [],
   "source": []
  },
  {
   "cell_type": "code",
   "execution_count": 17,
   "id": "7146a143",
   "metadata": {},
   "outputs": [
    {
     "name": "stderr",
     "output_type": "stream",
     "text": [
      "Processing User Features: 100%|██████████| 3771654/3771654 [01:54<00:00, 32810.82it/s]\n",
      "Processing Item Features: 100%|██████████| 50872/50872 [00:02<00:00, 23593.33it/s]\n"
     ]
    }
   ],
   "source": [
    "from tqdm import tqdm\n",
    "\n",
    "# Preprocess User Features\n",
    "user_features = [(row['user_id'], [f'products:{row[\"products\"]}', f'reviews:{row[\"reviews\"]}'])\n",
    "                 for _, row in tqdm(filtered_users.iterrows(), total=filtered_users.shape[0], desc='Processing User Features')]\n",
    "\n",
    "# Preprocess Item Features\n",
    "item_features = [(row['app_id'], [\n",
    "                    f'rating:{row[\"rating\"]}', \n",
    "                    f'user_reviews:{row[\"user_reviews\"]}',\n",
    "                    f'positive_ratio:{row[\"positive_ratio\"]}',\n",
    "                    f'price_final:{row[\"price_final\"]}'])\n",
    "                 for _, row in tqdm(games.iterrows(), total=games.shape[0], desc='Processing Item Features')]\n",
    "\n"
   ]
  },
  {
   "cell_type": "code",
   "execution_count": 18,
   "id": "cc5c3eb7",
   "metadata": {
    "scrolled": true
   },
   "outputs": [],
   "source": [
    "from lightfm.data import Dataset\n",
    "\n",
    "dataset = Dataset()\n",
    "dataset.fit(users=filtered_recommendations['user_id'].unique(),\n",
    "            items=filtered_recommendations['app_id'].unique())\n",
    "\n"
   ]
  },
  {
   "cell_type": "code",
   "execution_count": 19,
   "id": "f61cb3ed",
   "metadata": {},
   "outputs": [],
   "source": [
    "# Extract individual feature names for fit_partial\n",
    "user_feature_names = set(feature for _, features in user_features for feature in features)\n",
    "item_feature_names = set(feature for _, features in item_features for feature in features)\n",
    "\n",
    "# Use fit_partial to add additional user and item feature names\n",
    "dataset.fit_partial(users=(x[0] for x in user_features),\n",
    "                    items=(x[0] for x in item_features),\n",
    "                    user_features=user_feature_names,\n",
    "                    item_features=item_feature_names)\n"
   ]
  },
  {
   "cell_type": "code",
   "execution_count": 20,
   "id": "02513f3f",
   "metadata": {},
   "outputs": [],
   "source": [
    "user_features_matrix = dataset.build_user_features(user_features)\n",
    "item_features_matrix = dataset.build_item_features(item_features)\n"
   ]
  },
  {
   "cell_type": "code",
   "execution_count": 22,
   "id": "4796c457",
   "metadata": {},
   "outputs": [
    {
     "name": "stderr",
     "output_type": "stream",
     "text": [
      "Building Interaction Matrix: 100%|██████████| 5742/5742 [25:52<00:00,  3.70it/s]\n"
     ]
    }
   ],
   "source": [
    "interactions, weights = dataset.build_interactions([])\n",
    "\n",
    "for start_row in tqdm(range(0, filtered_recommendations.shape[0], 5000), desc='Building Interaction Matrix'):\n",
    "    end_row = min(start_row + 5000, filtered_recommendations.shape[0])\n",
    "    chunk = filtered_recommendations.iloc[start_row:end_row]\n",
    "    partial_interactions, _ = dataset.build_interactions(((x['user_id'], x['app_id'], x['is_recommended']) \n",
    "                                                         for _, x in chunk.iterrows()))\n",
    "    interactions += partial_interactions\n"
   ]
  },
  {
   "cell_type": "code",
   "execution_count": 23,
   "id": "b6d34a01",
   "metadata": {},
   "outputs": [
    {
     "name": "stderr",
     "output_type": "stream",
     "text": [
      "Creating Train-Test Split: 100%|██████████| 3771654/3771654 [24:14<00:00, 2593.01it/s]\n"
     ]
    }
   ],
   "source": [
    "from scipy.sparse import csr_matrix, lil_matrix\n",
    "\n",
    "interactions_csr = interactions.tocsr()\n",
    "train = lil_matrix(interactions_csr.shape)\n",
    "test = lil_matrix(interactions_csr.shape)\n",
    "\n",
    "test_proportion = 0.2\n",
    "\n",
    "for user_id in tqdm(range(interactions_csr.shape[0]), desc='Creating Train-Test Split'):\n",
    "    start_idx = interactions_csr.indptr[user_id]\n",
    "    end_idx = interactions_csr.indptr[user_id + 1]\n",
    "    interactions_idx = interactions_csr.indices[start_idx:end_idx]\n",
    "    np.random.shuffle(interactions_idx)\n",
    "    split_idx = int(test_proportion * len(interactions_idx))\n",
    "    train_idxs = interactions_idx[split_idx:]\n",
    "    test_idxs = interactions_idx[:split_idx]\n",
    "    train[user_id, train_idxs] = interactions_csr[user_id, train_idxs]\n",
    "    test[user_id, test_idxs] = interactions_csr[user_id, test_idxs]\n",
    "\n",
    "train_csr = train.tocsr()\n",
    "test_csr = test.tocsr()\n"
   ]
  },
  {
   "cell_type": "code",
   "execution_count": 24,
   "id": "3c9771d0",
   "metadata": {},
   "outputs": [
    {
     "name": "stderr",
     "output_type": "stream",
     "text": [
      "Training Model in Batches: 100%|██████████| 755/755 [03:57<00:00,  3.18it/s]\n"
     ]
    }
   ],
   "source": [
    "from lightfm import LightFM\n",
    "from tqdm import tqdm\n",
    "\n",
    "model = LightFM(no_components=20, learning_rate=0.05)\n",
    "\n",
    "num_chunks = train_csr.shape[0] // 5000\n",
    "if train_csr.shape[0] % 5000 != 0:\n",
    "    num_chunks += 1\n",
    "\n",
    "for chunk_index in tqdm(range(num_chunks), desc='Training Model in Batches'):\n",
    "    start_index = chunk_index * 5000\n",
    "    end_index = min((chunk_index + 1) * 5000, train_csr.shape[0])\n",
    "    interactions_chunk = train_csr[start_index:end_index]\n",
    "    model.fit_partial(interactions_chunk, user_features=user_features_matrix, item_features=item_features_matrix, epochs=1, num_threads=8)\n"
   ]
  },
  {
   "cell_type": "code",
   "execution_count": null,
   "id": "47475588",
   "metadata": {},
   "outputs": [],
   "source": [
    "from lightfm.evaluation import precision_at_k, auc_score\n",
    "\n",
    "test_precision = precision_at_k(model, test_csr, k=5, user_features=user_features_matrix, item_features=item_features_matrix).mean()\n",
    "test_auc = auc_score(model, test_csr, user_features=user_features_matrix, item_features=item_features_matrix).mean()\n",
    "\n",
    "print(f\"Test Precision at k: {test_precision}\")\n",
    "print(f\"Test AUC: {test_auc}\")\n"
   ]
  },
  {
   "cell_type": "code",
   "execution_count": null,
   "id": "79db0a3a",
   "metadata": {},
   "outputs": [],
   "source": []
  },
  {
   "cell_type": "code",
   "execution_count": null,
   "id": "0194e384",
   "metadata": {},
   "outputs": [],
   "source": []
  },
  {
   "cell_type": "code",
   "execution_count": null,
   "id": "3b49a26b",
   "metadata": {},
   "outputs": [],
   "source": []
  }
 ],
 "metadata": {
  "colab": {
   "provenance": []
  },
  "kernelspec": {
   "display_name": "Python 3 (ipykernel)",
   "language": "python",
   "name": "python3"
  },
  "language_info": {
   "codemirror_mode": {
    "name": "ipython",
    "version": 3
   },
   "file_extension": ".py",
   "mimetype": "text/x-python",
   "name": "python",
   "nbconvert_exporter": "python",
   "pygments_lexer": "ipython3",
   "version": "3.11.5"
  }
 },
 "nbformat": 4,
 "nbformat_minor": 5
}
