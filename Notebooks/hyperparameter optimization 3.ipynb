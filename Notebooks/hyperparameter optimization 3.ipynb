{
 "cells": [
  {
   "cell_type": "markdown",
   "id": "e2634221",
   "metadata": {},
   "source": [
    "## Overview\n",
    "\n",
    "Optimizing hyperparameters for my recommender algorithms on the smaller subsets of data that I sampled earlier."
   ]
  },
  {
   "cell_type": "code",
   "execution_count": 11,
   "id": "1d083cba",
   "metadata": {},
   "outputs": [],
   "source": [
    "import pandas as pd\n",
    "import numpy as np\n",
    "import matplotlib.pyplot as plt\n",
    "\n",
    "from scipy import stats\n",
    "import scipy as sci"
   ]
  },
  {
   "cell_type": "code",
   "execution_count": 12,
   "id": "84d3e263",
   "metadata": {},
   "outputs": [],
   "source": [
    "import pandas as pd\n",
    "from sklearn.neighbors import NearestNeighbors\n",
    "from sklearn.feature_extraction.text import TfidfVectorizer\n",
    "from sklearn.metrics.pairwise import linear_kernel\n",
    "from scipy.sparse import csr_matrix\n",
    "from mlxtend.frequent_patterns import apriori, association_rules\n",
    "\n",
    "# Function to reduce the memory usage of a DataFrame.\n",
    "def reduce_memory(df):\n",
    "    for col in df.columns:\n",
    "        if df[col].dtype == 'float64':\n",
    "            df[col] = df[col].astype('float32')\n",
    "        if df[col].dtype == 'int64':\n",
    "            df[col] = df[col].astype('int32')\n",
    "    return df\n",
    "\n",
    "# Generator function to load data in chunks.\n",
    "def data_generator(df, chunksize=10000):\n",
    "    for i in range(0, df.shape[0], chunksize):\n",
    "        yield df.iloc[i:i+chunksize]\n",
    "\n",
    "\n",
    "        \n",
    "        \n",
    "comp_recs = reduce_memory(pd.read_csv('../Data/sampled_composite_recommendations.csv'))\n",
    "recs = reduce_memory(pd.read_csv('../Data/sampled_recommendations.csv'))"
   ]
  },
  {
   "cell_type": "code",
   "execution_count": 18,
   "id": "081ea094",
   "metadata": {},
   "outputs": [],
   "source": [
    "from surprise import Dataset\n",
    "from surprise.reader import Reader\n",
    "from surprise.prediction_algorithms.matrix_factorization import SVD as FunkSVD\n",
    "from surprise.model_selection import GridSearchCV\n",
    "from surprise import SVDpp\n",
    "from surprise import SVD"
   ]
  },
  {
   "cell_type": "code",
   "execution_count": 14,
   "id": "8618e404",
   "metadata": {},
   "outputs": [],
   "source": [
    "recs['is_recommended'] = recs['is_recommended'].astype(int)"
   ]
  },
  {
   "cell_type": "code",
   "execution_count": 15,
   "id": "e6ff0b60",
   "metadata": {},
   "outputs": [],
   "source": [
    "# Loading in the is recommended dataframe as a surprise dataframe and telling it the column order and rating scale \n",
    "\n",
    "rec_dataset = Dataset.load_from_df(recs[['user_id','app_id','is_recommended']], Reader(rating_scale=(0, 1)))\n",
    "my_train_dataset = rec_dataset.build_full_trainset()"
   ]
  },
  {
   "cell_type": "code",
   "execution_count": 16,
   "id": "9afe03b2",
   "metadata": {},
   "outputs": [],
   "source": [
    "# Same as above but for the comp dataframe \n",
    "\n",
    "comp_recs_dataset = Dataset.load_from_df(comp_recs[['user_id','app_id','composite_rating']], Reader(rating_scale=(0, 10)))\n",
    "my_train_dataset_comp = comp_recs_dataset.build_full_trainset()"
   ]
  },
  {
   "cell_type": "markdown",
   "id": "e1a93809",
   "metadata": {},
   "source": [
    "The two commented out blocks of code below are my gridsearches, you can see the best parameters and the iteration that was run each time as well.  They're commented out so that you can test them if you like but they can take a very long time to run."
   ]
  },
  {
   "cell_type": "code",
   "execution_count": 12,
   "id": "2f1ab73a",
   "metadata": {},
   "outputs": [
    {
     "name": "stderr",
     "output_type": "stream",
     "text": [
      "[Parallel(n_jobs=-1)]: Using backend LokyBackend with 16 concurrent workers.\n",
      "[Parallel(n_jobs=-1)]: Done   2 out of   9 | elapsed:   45.3s remaining:  2.6min\n",
      "[Parallel(n_jobs=-1)]: Done   3 out of   9 | elapsed:   49.8s remaining:  1.7min\n",
      "[Parallel(n_jobs=-1)]: Done   4 out of   9 | elapsed:   57.0s remaining:  1.2min\n",
      "[Parallel(n_jobs=-1)]: Done   5 out of   9 | elapsed:  1.0min remaining:   49.1s\n",
      "[Parallel(n_jobs=-1)]: Done   6 out of   9 | elapsed:  1.1min remaining:   33.4s\n",
      "[Parallel(n_jobs=-1)]: Done   7 out of   9 | elapsed:  1.2min remaining:   20.9s\n"
     ]
    },
    {
     "name": "stdout",
     "output_type": "stream",
     "text": [
      "0.32581415433422056\n",
      "{'n_factors': 11, 'lr_all': 0.003, 'reg_all': 0.05, 'n_epochs': 55}\n"
     ]
    },
    {
     "name": "stderr",
     "output_type": "stream",
     "text": [
      "[Parallel(n_jobs=-1)]: Done   9 out of   9 | elapsed:  1.4min remaining:    0.0s\n",
      "[Parallel(n_jobs=-1)]: Done   9 out of   9 | elapsed:  1.4min finished\n"
     ]
    }
   ],
   "source": [
    "# # Grid search that was used for the recs dataset (0-1 scale) commented out to avoid runtime\n",
    "\n",
    "\n",
    " \n",
    "# learning_rate = np.logspace(-4, -1, num=5)\n",
    "\n",
    "# parameters = {\n",
    "#     'n_factors': [11],\n",
    "#     'lr_all': [0.003],\n",
    "#     'reg_all': [0.05],\n",
    "#     'n_epochs': [55,60,65]\n",
    "    \n",
    "# }\n",
    "\n",
    "\n",
    "# # {'n_factors': 20, 'lr_all': 0.0031622776601683794, 'reg_all': 0.05, 'n_epochs': 30} first iteration\n",
    "\n",
    "# # 0.3258830122922809\n",
    "# #{'n_factors': 15, 'lr_all': 0.003, 'reg_all': 0.05, 'n_epochs': 50} second iteration, not much better \n",
    "\n",
    "# #0.3258285888565499\n",
    "# #{'n_factors': 11, 'lr_all': 0.003, 'reg_all': 0.05, 'n_epochs': 60}\n",
    "\n",
    "\n",
    "# # 0.32581415433422056\n",
    "# # {'n_factors': 11, 'lr_all': 0.003, 'reg_all': 0.05, 'n_epochs': 55} # fourth iteration, thats the final score for is reocmmended\n",
    "\n",
    "\n",
    "# gs = GridSearchCV(SVD, parameters, measures=['rmse', 'mae'], n_jobs=-1, cv=3, joblib_verbose=10)\n",
    "\n",
    "# # Fit the grid search to the data\n",
    "# gs.fit(my_dataset)\n",
    "\n",
    "# # Best RMSE score\n",
    "# print(gs.best_score['rmse'])\n",
    "\n",
    "# # Combination of hyperparameters that gave the best RMSE score\n",
    "# print(gs.best_params['rmse'])"
   ]
  },
  {
   "cell_type": "code",
   "execution_count": 18,
   "id": "96cd269e",
   "metadata": {},
   "outputs": [
    {
     "name": "stderr",
     "output_type": "stream",
     "text": [
      "[Parallel(n_jobs=-1)]: Using backend LokyBackend with 16 concurrent workers.\n",
      "[Parallel(n_jobs=-1)]: Done   2 out of  27 | elapsed:   25.5s remaining:  5.3min\n",
      "[Parallel(n_jobs=-1)]: Done   5 out of  27 | elapsed:   43.3s remaining:  3.2min\n",
      "[Parallel(n_jobs=-1)]: Done   8 out of  27 | elapsed:   59.5s remaining:  2.4min\n",
      "[Parallel(n_jobs=-1)]: Done  11 out of  27 | elapsed:  1.3min remaining:  1.8min\n",
      "[Parallel(n_jobs=-1)]: Done  14 out of  27 | elapsed:  1.5min remaining:  1.4min\n",
      "[Parallel(n_jobs=-1)]: Done  17 out of  27 | elapsed:  1.8min remaining:  1.1min\n",
      "[Parallel(n_jobs=-1)]: Done  20 out of  27 | elapsed:  2.1min remaining:   44.0s\n",
      "[Parallel(n_jobs=-1)]: Done  23 out of  27 | elapsed:  2.4min remaining:   24.8s\n"
     ]
    },
    {
     "name": "stdout",
     "output_type": "stream",
     "text": [
      "1.2612799231507899\n",
      "{'n_factors': 10, 'lr_all': 0.1, 'reg_all': 0.15, 'n_epochs': 11}\n"
     ]
    },
    {
     "name": "stderr",
     "output_type": "stream",
     "text": [
      "[Parallel(n_jobs=-1)]: Done  27 out of  27 | elapsed:  2.7min finished\n"
     ]
    }
   ],
   "source": [
    "# # Grid search that was used for the comp recs dataset (0-10 scale) commented out to avoid runtime\n",
    "\n",
    "# learning_rate = np.logspace(-4, -1, num=5)\n",
    "\n",
    "# parameters = {\n",
    "#     'n_factors': [10,15,20],\n",
    "#     'lr_all': [0.1],\n",
    "#     'reg_all': [0.15],\n",
    "#     'n_epochs': [13,15,11]\n",
    "    \n",
    "# }\n",
    "\n",
    "# # 1.82 RMSE\n",
    "# # \"n_epochs': 20, 'lr_all': 0.01, 'reg_all': 0.1 '\" Previous best parameters for 1-10 scale \n",
    "\n",
    "\n",
    "# # 1.244827687220985 RMSE\n",
    "# # {'n_factors': 20, 'lr_all': 0.1, 'reg_all': 0.15, 'n_epochs': 15} # first iteration\n",
    "\n",
    "\n",
    "# # 1.2417033081913984\n",
    "# # {'n_factors': 15, 'lr_all': 0.1, 'reg_all': 0.15, 'n_epochs': 13} second iteration\n",
    "\n",
    "# # 1.2612799231507899\n",
    "# # {'n_factors': 10, 'lr_all': 0.1, 'reg_all': 0.15, 'n_epochs': 11} third iteration, underperformed compared to second\n",
    "\n",
    "\n",
    "\n",
    "# gs = GridSearchCV(SVD, parameters, measures=['rmse', 'mae'], n_jobs=-1, cv=3, joblib_verbose=10)\n",
    "\n",
    "\n",
    "# gs.fit(my_dataset_rating)\n",
    "\n",
    "\n",
    "# print(gs.best_score['rmse'])\n",
    "\n",
    "\n",
    "# print(gs.best_params['rmse'])"
   ]
  },
  {
   "cell_type": "code",
   "execution_count": 20,
   "id": "0ecfd8f3",
   "metadata": {},
   "outputs": [
    {
     "name": "stdout",
     "output_type": "stream",
     "text": [
      " processing epoch 0\n",
      " processing epoch 1\n",
      " processing epoch 2\n",
      " processing epoch 3\n",
      " processing epoch 4\n",
      " processing epoch 5\n",
      " processing epoch 6\n",
      " processing epoch 7\n",
      " processing epoch 8\n",
      " processing epoch 9\n",
      " processing epoch 10\n",
      " processing epoch 11\n",
      " processing epoch 12\n"
     ]
    },
    {
     "data": {
      "text/plain": [
       "<surprise.prediction_algorithms.matrix_factorization.SVDpp at 0x178af80e050>"
      ]
     },
     "execution_count": 20,
     "metadata": {},
     "output_type": "execute_result"
    }
   ],
   "source": [
    "# would adjust ratings based on gridsearch factors and append the results into a dataframe below\n",
    "  \n",
    "    \n",
    "# top performing algorithm for composite rating dataset \n",
    "my_algorithm_comp = SVDpp(n_factors=15,\n",
    "                     n_epochs=13,\n",
    "                     lr_all=0.1,\n",
    "                     reg_all=0.15,\n",
    "                     cache_ratings=True,\n",
    "                     verbose=1)\n",
    "\n",
    "my_algorithm_comp.fit(my_train_dataset_comp)"
   ]
  },
  {
   "cell_type": "code",
   "execution_count": 21,
   "id": "ace89cef",
   "metadata": {},
   "outputs": [
    {
     "name": "stdout",
     "output_type": "stream",
     "text": [
      " processing epoch 0\n",
      " processing epoch 1\n",
      " processing epoch 2\n",
      " processing epoch 3\n",
      " processing epoch 4\n",
      " processing epoch 5\n",
      " processing epoch 6\n",
      " processing epoch 7\n",
      " processing epoch 8\n",
      " processing epoch 9\n",
      " processing epoch 10\n",
      " processing epoch 11\n",
      " processing epoch 12\n",
      " processing epoch 13\n",
      " processing epoch 14\n",
      " processing epoch 15\n",
      " processing epoch 16\n",
      " processing epoch 17\n",
      " processing epoch 18\n",
      " processing epoch 19\n",
      " processing epoch 20\n",
      " processing epoch 21\n",
      " processing epoch 22\n",
      " processing epoch 23\n",
      " processing epoch 24\n",
      " processing epoch 25\n",
      " processing epoch 26\n",
      " processing epoch 27\n",
      " processing epoch 28\n",
      " processing epoch 29\n",
      " processing epoch 30\n",
      " processing epoch 31\n",
      " processing epoch 32\n",
      " processing epoch 33\n",
      " processing epoch 34\n",
      " processing epoch 35\n",
      " processing epoch 36\n",
      " processing epoch 37\n",
      " processing epoch 38\n",
      " processing epoch 39\n",
      " processing epoch 40\n",
      " processing epoch 41\n",
      " processing epoch 42\n",
      " processing epoch 43\n",
      " processing epoch 44\n",
      " processing epoch 45\n",
      " processing epoch 46\n",
      " processing epoch 47\n",
      " processing epoch 48\n",
      " processing epoch 49\n",
      " processing epoch 50\n",
      " processing epoch 51\n",
      " processing epoch 52\n",
      " processing epoch 53\n",
      " processing epoch 54\n"
     ]
    },
    {
     "data": {
      "text/plain": [
       "<surprise.prediction_algorithms.matrix_factorization.SVDpp at 0x1788ce05550>"
      ]
     },
     "execution_count": 21,
     "metadata": {},
     "output_type": "execute_result"
    }
   ],
   "source": [
    "# top performing for 0-1 scale rec dataset \n",
    "\n",
    "my_algorithm_rec = SVDpp(n_factors=11,\n",
    "                     n_epochs=55,\n",
    "                     lr_all=0.003,\n",
    "                     reg_all=0.05,\n",
    "                     cache_ratings=True,\n",
    "                     verbose=1)\n",
    "\n",
    "my_algorithm_rec.fit(my_train_dataset)"
   ]
  },
  {
   "cell_type": "markdown",
   "id": "523deace",
   "metadata": {},
   "source": [
    "## NOTE:\n",
    "\n",
    "The below code was used to test and record the performance of each algorithm in the dataset.  Once you've found the best parameters and fit your dataset you can simply pickle it as shown below for later use. "
   ]
  },
  {
   "cell_type": "code",
   "execution_count": 23,
   "id": "4d549e7a",
   "metadata": {},
   "outputs": [],
   "source": [
    "from surprise import accuracy\n",
    "from surprise.model_selection import train_test_split\n",
    "\n",
    "# The surprise package doesn't allow you to test on the trainset we built\n",
    "\n",
    "# tester for comp dataset \n",
    "my_train_dataset, my_test_dataset = train_test_split(comp_recs_dataset, test_size=0.5)\n",
    "\n",
    "\n",
    "predictions = my_algorithm_comp.test(my_test_dataset)"
   ]
  },
  {
   "cell_type": "code",
   "execution_count": 27,
   "id": "4fdcd0ca",
   "metadata": {},
   "outputs": [],
   "source": [
    "# tester for rec dataset, preferably test one at a time\n",
    "my_train_dataset, my_test_dataset = train_test_split(rec_dataset, test_size=0.5)\n",
    "\n",
    "\n",
    "predictions = my_algorithm_rec.test(my_test_dataset)"
   ]
  },
  {
   "cell_type": "code",
   "execution_count": 29,
   "id": "f77a382a",
   "metadata": {},
   "outputs": [],
   "source": [
    "# Rerun after every model train session to update scores \n",
    "\n",
    "RMSE = round(accuracy.rmse(predictions, verbose=False), 2)\n",
    "MSE = round(accuracy.mse(predictions, verbose=False), 2)\n",
    "MAE = round(accuracy.mae(predictions, verbose=False), 2)\n",
    "FCP = round(accuracy.fcp(predictions, verbose=False), 2)"
   ]
  },
  {
   "cell_type": "code",
   "execution_count": 31,
   "id": "b40e6ab6",
   "metadata": {},
   "outputs": [
    {
     "name": "stdout",
     "output_type": "stream",
     "text": [
      "RMSE:0.28,MSE:0.08,MAE:0.18,FCP:0.6\n"
     ]
    }
   ],
   "source": [
    "print(f'RMSE:{RMSE},MSE:{MSE},MAE:{MAE},FCP:{FCP}') # if you don't want to add to dataframe but want to see a random test"
   ]
  },
  {
   "cell_type": "code",
   "execution_count": null,
   "id": "090993f4",
   "metadata": {},
   "outputs": [],
   "source": [
    "# results dataframe\n",
    "algo_results = pd.DataFrame(columns=['RMSE', 'MSE', 'MAE', 'FCP'])"
   ]
  },
  {
   "cell_type": "code",
   "execution_count": 26,
   "id": "6fb34360",
   "metadata": {},
   "outputs": [
    {
     "data": {
      "text/html": [
       "<div>\n",
       "<style scoped>\n",
       "    .dataframe tbody tr th:only-of-type {\n",
       "        vertical-align: middle;\n",
       "    }\n",
       "\n",
       "    .dataframe tbody tr th {\n",
       "        vertical-align: top;\n",
       "    }\n",
       "\n",
       "    .dataframe thead th {\n",
       "        text-align: right;\n",
       "    }\n",
       "</style>\n",
       "<table border=\"1\" class=\"dataframe\">\n",
       "  <thead>\n",
       "    <tr style=\"text-align: right;\">\n",
       "      <th></th>\n",
       "      <th>RMSE</th>\n",
       "      <th>MSE</th>\n",
       "      <th>MAE</th>\n",
       "      <th>FCP</th>\n",
       "    </tr>\n",
       "  </thead>\n",
       "  <tbody>\n",
       "    <tr>\n",
       "      <th>Ratings test: n_factors: 15, lr_all: 0.1, reg_all: 0.15, n_epochs: 13</th>\n",
       "      <td>6.28</td>\n",
       "      <td>39.44</td>\n",
       "      <td>6.21</td>\n",
       "      <td>0.52</td>\n",
       "    </tr>\n",
       "    <tr>\n",
       "      <th>Ratings test SVD: n_factors: 15, lr_all: 0.1, reg_all: 0.15, n_epochs: 13</th>\n",
       "      <td>6.28</td>\n",
       "      <td>39.44</td>\n",
       "      <td>6.21</td>\n",
       "      <td>0.52</td>\n",
       "    </tr>\n",
       "  </tbody>\n",
       "</table>\n",
       "</div>"
      ],
      "text/plain": [
       "                                                    RMSE    MSE   MAE   FCP\n",
       "Ratings test: n_factors: 15, lr_all: 0.1, reg_a...  6.28  39.44  6.21  0.52\n",
       "Ratings test SVD: n_factors: 15, lr_all: 0.1, r...  6.28  39.44  6.21  0.52"
      ]
     },
     "execution_count": 26,
     "metadata": {},
     "output_type": "execute_result"
    }
   ],
   "source": [
    "# updates dataframe with details on test, run a new one after each test \n",
    "\n",
    "algo_results.loc['Ratings test SVD: n_factors: 15, lr_all: 0.1, reg_all: 0.15, n_epochs: 13'] = [\n",
    "    f'{RMSE}',\n",
    "    f'{MSE}',\n",
    "    f'{MAE}',\n",
    "    f'{FCP}']\n",
    "    \n",
    "\n",
    "algo_results"
   ]
  },
  {
   "cell_type": "code",
   "execution_count": 30,
   "id": "cc255883",
   "metadata": {},
   "outputs": [
    {
     "data": {
      "text/html": [
       "<div>\n",
       "<style scoped>\n",
       "    .dataframe tbody tr th:only-of-type {\n",
       "        vertical-align: middle;\n",
       "    }\n",
       "\n",
       "    .dataframe tbody tr th {\n",
       "        vertical-align: top;\n",
       "    }\n",
       "\n",
       "    .dataframe thead th {\n",
       "        text-align: right;\n",
       "    }\n",
       "</style>\n",
       "<table border=\"1\" class=\"dataframe\">\n",
       "  <thead>\n",
       "    <tr style=\"text-align: right;\">\n",
       "      <th></th>\n",
       "      <th>RMSE</th>\n",
       "      <th>MSE</th>\n",
       "      <th>MAE</th>\n",
       "      <th>FCP</th>\n",
       "    </tr>\n",
       "  </thead>\n",
       "  <tbody>\n",
       "    <tr>\n",
       "      <th>Ratings test: n_factors: 15, lr_all: 0.1, reg_all: 0.15, n_epochs: 13</th>\n",
       "      <td>6.28</td>\n",
       "      <td>39.44</td>\n",
       "      <td>6.21</td>\n",
       "      <td>0.52</td>\n",
       "    </tr>\n",
       "    <tr>\n",
       "      <th>Ratings test SVD: n_factors: 15, lr_all: 0.1, reg_all: 0.15, n_epochs: 13</th>\n",
       "      <td>6.28</td>\n",
       "      <td>39.44</td>\n",
       "      <td>6.21</td>\n",
       "      <td>0.52</td>\n",
       "    </tr>\n",
       "    <tr>\n",
       "      <th>Ratings test SVDpp: Original values (fixed)</th>\n",
       "      <td>0.82</td>\n",
       "      <td>0.68</td>\n",
       "      <td>0.63</td>\n",
       "      <td>0.59</td>\n",
       "    </tr>\n",
       "  </tbody>\n",
       "</table>\n",
       "</div>"
      ],
      "text/plain": [
       "                                                    RMSE    MSE   MAE   FCP\n",
       "Ratings test: n_factors: 15, lr_all: 0.1, reg_a...  6.28  39.44  6.21  0.52\n",
       "Ratings test SVD: n_factors: 15, lr_all: 0.1, r...  6.28  39.44  6.21  0.52\n",
       "Ratings test SVDpp: Original values (fixed)         0.82   0.68  0.63  0.59"
      ]
     },
     "execution_count": 30,
     "metadata": {},
     "output_type": "execute_result"
    }
   ],
   "source": [
    "algo_results.loc['Ratings test SVDpp: Original values (fixed)'] = [\n",
    "    f'{RMSE}',\n",
    "    f'{MSE}',\n",
    "    f'{MAE}',\n",
    "    f'{FCP}']\n",
    "    \n",
    "\n",
    "algo_results"
   ]
  },
  {
   "cell_type": "code",
   "execution_count": 34,
   "id": "2608aa3c",
   "metadata": {},
   "outputs": [
    {
     "data": {
      "text/html": [
       "<div>\n",
       "<style scoped>\n",
       "    .dataframe tbody tr th:only-of-type {\n",
       "        vertical-align: middle;\n",
       "    }\n",
       "\n",
       "    .dataframe tbody tr th {\n",
       "        vertical-align: top;\n",
       "    }\n",
       "\n",
       "    .dataframe thead th {\n",
       "        text-align: right;\n",
       "    }\n",
       "</style>\n",
       "<table border=\"1\" class=\"dataframe\">\n",
       "  <thead>\n",
       "    <tr style=\"text-align: right;\">\n",
       "      <th></th>\n",
       "      <th>RMSE</th>\n",
       "      <th>MSE</th>\n",
       "      <th>MAE</th>\n",
       "      <th>FCP</th>\n",
       "    </tr>\n",
       "  </thead>\n",
       "  <tbody>\n",
       "    <tr>\n",
       "      <th>Ratings test: n_factors: 15, lr_all: 0.1, reg_all: 0.15, n_epochs: 13</th>\n",
       "      <td>6.28</td>\n",
       "      <td>39.44</td>\n",
       "      <td>6.21</td>\n",
       "      <td>0.52</td>\n",
       "    </tr>\n",
       "    <tr>\n",
       "      <th>Ratings test SVD: n_factors: 15, lr_all: 0.1, reg_all: 0.15, n_epochs: 13</th>\n",
       "      <td>6.28</td>\n",
       "      <td>39.44</td>\n",
       "      <td>6.21</td>\n",
       "      <td>0.52</td>\n",
       "    </tr>\n",
       "    <tr>\n",
       "      <th>Ratings test SVDpp: Original values (fixed)</th>\n",
       "      <td>0.82</td>\n",
       "      <td>0.68</td>\n",
       "      <td>0.63</td>\n",
       "      <td>0.59</td>\n",
       "    </tr>\n",
       "    <tr>\n",
       "      <th>Ratings test SVDpp: n_factors: 15, lr_all: 0.1, reg_all: 0.15, n_epochs: 13</th>\n",
       "      <td>0.78</td>\n",
       "      <td>0.61</td>\n",
       "      <td>0.57</td>\n",
       "      <td>0.59</td>\n",
       "    </tr>\n",
       "  </tbody>\n",
       "</table>\n",
       "</div>"
      ],
      "text/plain": [
       "                                                    RMSE    MSE   MAE   FCP\n",
       "Ratings test: n_factors: 15, lr_all: 0.1, reg_a...  6.28  39.44  6.21  0.52\n",
       "Ratings test SVD: n_factors: 15, lr_all: 0.1, r...  6.28  39.44  6.21  0.52\n",
       "Ratings test SVDpp: Original values (fixed)         0.82   0.68  0.63  0.59\n",
       "Ratings test SVDpp: n_factors: 15, lr_all: 0.1,...  0.78   0.61  0.57  0.59"
      ]
     },
     "execution_count": 34,
     "metadata": {},
     "output_type": "execute_result"
    }
   ],
   "source": [
    "algo_results.loc['Ratings test SVDpp: n_factors: 15, lr_all: 0.1, reg_all: 0.15, n_epochs: 13'] = [\n",
    "    f'{RMSE}',\n",
    "    f'{MSE}',\n",
    "    f'{MAE}',\n",
    "    f'{FCP}']\n",
    "    \n",
    "\n",
    "algo_results"
   ]
  },
  {
   "cell_type": "code",
   "execution_count": 54,
   "id": "40b37bcd",
   "metadata": {},
   "outputs": [
    {
     "data": {
      "text/html": [
       "<div>\n",
       "<style scoped>\n",
       "    .dataframe tbody tr th:only-of-type {\n",
       "        vertical-align: middle;\n",
       "    }\n",
       "\n",
       "    .dataframe tbody tr th {\n",
       "        vertical-align: top;\n",
       "    }\n",
       "\n",
       "    .dataframe thead th {\n",
       "        text-align: right;\n",
       "    }\n",
       "</style>\n",
       "<table border=\"1\" class=\"dataframe\">\n",
       "  <thead>\n",
       "    <tr style=\"text-align: right;\">\n",
       "      <th></th>\n",
       "      <th>RMSE</th>\n",
       "      <th>MSE</th>\n",
       "      <th>MAE</th>\n",
       "      <th>FCP</th>\n",
       "    </tr>\n",
       "  </thead>\n",
       "  <tbody>\n",
       "    <tr>\n",
       "      <th>Ratings test: n_factors: 15, lr_all: 0.1, reg_all: 0.15, n_epochs: 13</th>\n",
       "      <td>6.28</td>\n",
       "      <td>39.44</td>\n",
       "      <td>6.21</td>\n",
       "      <td>0.52</td>\n",
       "    </tr>\n",
       "    <tr>\n",
       "      <th>Ratings test SVD: n_factors: 15, lr_all: 0.1, reg_all: 0.15, n_epochs: 13</th>\n",
       "      <td>6.28</td>\n",
       "      <td>39.44</td>\n",
       "      <td>6.21</td>\n",
       "      <td>0.52</td>\n",
       "    </tr>\n",
       "    <tr>\n",
       "      <th>Ratings test SVDpp: Original values (fixed)</th>\n",
       "      <td>0.82</td>\n",
       "      <td>0.68</td>\n",
       "      <td>0.63</td>\n",
       "      <td>0.59</td>\n",
       "    </tr>\n",
       "    <tr>\n",
       "      <th>Ratings test SVDpp: n_factors: 15, lr_all: 0.1, reg_all: 0.15, n_epochs: 13</th>\n",
       "      <td>0.78</td>\n",
       "      <td>0.61</td>\n",
       "      <td>0.57</td>\n",
       "      <td>0.59</td>\n",
       "    </tr>\n",
       "    <tr>\n",
       "      <th>Recommended test SVDpp (0-1): {n_factors: 11, lr_all: 0.003, reg_all: 0.05, n_epochs: 55</th>\n",
       "      <td>0.28</td>\n",
       "      <td>0.08</td>\n",
       "      <td>0.18</td>\n",
       "      <td>0.59</td>\n",
       "    </tr>\n",
       "    <tr>\n",
       "      <th>Recommended test SVD (0-1): {n_factors: 11, lr_all: 0.003, reg_all: 0.05, n_epochs: 55</th>\n",
       "      <td>0.3</td>\n",
       "      <td>0.09</td>\n",
       "      <td>0.2</td>\n",
       "      <td>0.56</td>\n",
       "    </tr>\n",
       "  </tbody>\n",
       "</table>\n",
       "</div>"
      ],
      "text/plain": [
       "                                                    RMSE    MSE   MAE   FCP\n",
       "Ratings test: n_factors: 15, lr_all: 0.1, reg_a...  6.28  39.44  6.21  0.52\n",
       "Ratings test SVD: n_factors: 15, lr_all: 0.1, r...  6.28  39.44  6.21  0.52\n",
       "Ratings test SVDpp: Original values (fixed)         0.82   0.68  0.63  0.59\n",
       "Ratings test SVDpp: n_factors: 15, lr_all: 0.1,...  0.78   0.61  0.57  0.59\n",
       "Recommended test SVDpp (0-1): {n_factors: 11, l...  0.28   0.08  0.18  0.59\n",
       "Recommended test SVD (0-1): {n_factors: 11, lr_...   0.3   0.09   0.2  0.56"
      ]
     },
     "execution_count": 54,
     "metadata": {},
     "output_type": "execute_result"
    }
   ],
   "source": [
    "algo_results.loc['Recommended test SVD (0-1): {n_factors: 11, lr_all: 0.003, reg_all: 0.05, n_epochs: 55'] = [\n",
    "    f'{RMSE}',\n",
    "    f'{MSE}',\n",
    "    f'{MAE}',\n",
    "    f'{FCP}']\n",
    "    \n",
    "\n",
    "algo_results"
   ]
  },
  {
   "cell_type": "code",
   "execution_count": 50,
   "id": "8ed5f305",
   "metadata": {},
   "outputs": [
    {
     "data": {
      "text/html": [
       "<div>\n",
       "<style scoped>\n",
       "    .dataframe tbody tr th:only-of-type {\n",
       "        vertical-align: middle;\n",
       "    }\n",
       "\n",
       "    .dataframe tbody tr th {\n",
       "        vertical-align: top;\n",
       "    }\n",
       "\n",
       "    .dataframe thead th {\n",
       "        text-align: right;\n",
       "    }\n",
       "</style>\n",
       "<table border=\"1\" class=\"dataframe\">\n",
       "  <thead>\n",
       "    <tr style=\"text-align: right;\">\n",
       "      <th></th>\n",
       "      <th>RMSE</th>\n",
       "      <th>MSE</th>\n",
       "      <th>MAE</th>\n",
       "      <th>FCP</th>\n",
       "    </tr>\n",
       "  </thead>\n",
       "  <tbody>\n",
       "    <tr>\n",
       "      <th>Ratings test: n_factors: 15, lr_all: 0.1, reg_all: 0.15, n_epochs: 13</th>\n",
       "      <td>6.28</td>\n",
       "      <td>39.44</td>\n",
       "      <td>6.21</td>\n",
       "      <td>0.52</td>\n",
       "    </tr>\n",
       "    <tr>\n",
       "      <th>Ratings test SVD: n_factors: 15, lr_all: 0.1, reg_all: 0.15, n_epochs: 13</th>\n",
       "      <td>6.28</td>\n",
       "      <td>39.44</td>\n",
       "      <td>6.21</td>\n",
       "      <td>0.52</td>\n",
       "    </tr>\n",
       "    <tr>\n",
       "      <th>Ratings test SVDpp: Original values (fixed)</th>\n",
       "      <td>0.82</td>\n",
       "      <td>0.68</td>\n",
       "      <td>0.63</td>\n",
       "      <td>0.59</td>\n",
       "    </tr>\n",
       "    <tr>\n",
       "      <th>Ratings test SVDpp: n_factors: 15, lr_all: 0.1, reg_all: 0.15, n_epochs: 13</th>\n",
       "      <td>0.78</td>\n",
       "      <td>0.61</td>\n",
       "      <td>0.57</td>\n",
       "      <td>0.59</td>\n",
       "    </tr>\n",
       "    <tr>\n",
       "      <th>Recommended test SVDpp (0-1): {n_factors: 11, lr_all: 0.003, reg_all: 0.05, n_epochs: 55</th>\n",
       "      <td>0.28</td>\n",
       "      <td>0.08</td>\n",
       "      <td>0.18</td>\n",
       "      <td>0.59</td>\n",
       "    </tr>\n",
       "    <tr>\n",
       "      <th>Recommended test SVD (0-1): {n_factors: 11, lr_all: 0.003, reg_all: 0.05, n_epochs: 55</th>\n",
       "      <td>0.28</td>\n",
       "      <td>0.08</td>\n",
       "      <td>0.18</td>\n",
       "      <td>0.59</td>\n",
       "    </tr>\n",
       "  </tbody>\n",
       "</table>\n",
       "</div>"
      ],
      "text/plain": [
       "                                                    RMSE    MSE   MAE   FCP\n",
       "Ratings test: n_factors: 15, lr_all: 0.1, reg_a...  6.28  39.44  6.21  0.52\n",
       "Ratings test SVD: n_factors: 15, lr_all: 0.1, r...  6.28  39.44  6.21  0.52\n",
       "Ratings test SVDpp: Original values (fixed)         0.82   0.68  0.63  0.59\n",
       "Ratings test SVDpp: n_factors: 15, lr_all: 0.1,...  0.78   0.61  0.57  0.59\n",
       "Recommended test SVDpp (0-1): {n_factors: 11, l...  0.28   0.08  0.18  0.59\n",
       "Recommended test SVD (0-1): {n_factors: 11, lr_...  0.28   0.08  0.18  0.59"
      ]
     },
     "execution_count": 50,
     "metadata": {},
     "output_type": "execute_result"
    }
   ],
   "source": [
    "algo_results.loc['Recommended test SVDpp (0-1): {n_factors: 11, lr_all: 0.003, reg_all: 0.05, n_epochs: 55'] = [\n",
    "    f'{RMSE}',\n",
    "    f'{MSE}',\n",
    "    f'{MAE}',\n",
    "    f'{FCP}']\n",
    "    \n",
    "\n",
    "algo_results"
   ]
  },
  {
   "cell_type": "code",
   "execution_count": 56,
   "id": "14ac61c7",
   "metadata": {},
   "outputs": [
    {
     "data": {
      "text/html": [
       "<div>\n",
       "<style scoped>\n",
       "    .dataframe tbody tr th:only-of-type {\n",
       "        vertical-align: middle;\n",
       "    }\n",
       "\n",
       "    .dataframe tbody tr th {\n",
       "        vertical-align: top;\n",
       "    }\n",
       "\n",
       "    .dataframe thead th {\n",
       "        text-align: right;\n",
       "    }\n",
       "</style>\n",
       "<table border=\"1\" class=\"dataframe\">\n",
       "  <thead>\n",
       "    <tr style=\"text-align: right;\">\n",
       "      <th></th>\n",
       "      <th>RMSE</th>\n",
       "      <th>MSE</th>\n",
       "      <th>MAE</th>\n",
       "      <th>FCP</th>\n",
       "    </tr>\n",
       "  </thead>\n",
       "  <tbody>\n",
       "    <tr>\n",
       "      <th>Ratings test: n_factors: 15, lr_all: 0.1, reg_all: 0.15, n_epochs: 13</th>\n",
       "      <td>6.28</td>\n",
       "      <td>39.44</td>\n",
       "      <td>6.21</td>\n",
       "      <td>0.52</td>\n",
       "    </tr>\n",
       "    <tr>\n",
       "      <th>Ratings test SVD: n_factors: 15, lr_all: 0.1, reg_all: 0.15, n_epochs: 13</th>\n",
       "      <td>6.28</td>\n",
       "      <td>39.44</td>\n",
       "      <td>6.21</td>\n",
       "      <td>0.52</td>\n",
       "    </tr>\n",
       "    <tr>\n",
       "      <th>Ratings test SVDpp: Original values (fixed)</th>\n",
       "      <td>0.82</td>\n",
       "      <td>0.68</td>\n",
       "      <td>0.63</td>\n",
       "      <td>0.59</td>\n",
       "    </tr>\n",
       "    <tr>\n",
       "      <th>Ratings test SVDpp: n_factors: 15, lr_all: 0.1, reg_all: 0.15, n_epochs: 13</th>\n",
       "      <td>0.78</td>\n",
       "      <td>0.61</td>\n",
       "      <td>0.57</td>\n",
       "      <td>0.59</td>\n",
       "    </tr>\n",
       "    <tr>\n",
       "      <th>Recommended test SVDpp (0-1): {n_factors: 11, lr_all: 0.003, reg_all: 0.05, n_epochs: 55</th>\n",
       "      <td>0.28</td>\n",
       "      <td>0.08</td>\n",
       "      <td>0.18</td>\n",
       "      <td>0.59</td>\n",
       "    </tr>\n",
       "    <tr>\n",
       "      <th>Recommended test SVD (0-1): {n_factors: 11, lr_all: 0.003, reg_all: 0.05, n_epochs: 55</th>\n",
       "      <td>0.3</td>\n",
       "      <td>0.09</td>\n",
       "      <td>0.2</td>\n",
       "      <td>0.56</td>\n",
       "    </tr>\n",
       "  </tbody>\n",
       "</table>\n",
       "</div>"
      ],
      "text/plain": [
       "                                                    RMSE    MSE   MAE   FCP\n",
       "Ratings test: n_factors: 15, lr_all: 0.1, reg_a...  6.28  39.44  6.21  0.52\n",
       "Ratings test SVD: n_factors: 15, lr_all: 0.1, r...  6.28  39.44  6.21  0.52\n",
       "Ratings test SVDpp: Original values (fixed)         0.82   0.68  0.63  0.59\n",
       "Ratings test SVDpp: n_factors: 15, lr_all: 0.1,...  0.78   0.61  0.57  0.59\n",
       "Recommended test SVDpp (0-1): {n_factors: 11, l...  0.28   0.08  0.18  0.59\n",
       "Recommended test SVD (0-1): {n_factors: 11, lr_...   0.3   0.09   0.2  0.56"
      ]
     },
     "execution_count": 56,
     "metadata": {},
     "output_type": "execute_result"
    }
   ],
   "source": [
    "algo_results # ratings test with svdpp appears to be the best model."
   ]
  },
  {
   "cell_type": "code",
   "execution_count": 32,
   "id": "c4be9da7",
   "metadata": {},
   "outputs": [],
   "source": [
    "# pickling composite rating algorithm for later use \n",
    "import pickle\n",
    "\n",
    "\n",
    "filename = '../Models/composite_rating_predictor.pkl'\n",
    "with open(filename, 'wb') as file:\n",
    "    pickle.dump(my_algorithm_comp, file)"
   ]
  },
  {
   "cell_type": "code",
   "execution_count": 33,
   "id": "65f2900e",
   "metadata": {},
   "outputs": [],
   "source": [
    "# pickling is_recommended algorithm for later use \n",
    "\n",
    "filename = '../Models/recommender_predictor.pkl'\n",
    "with open(filename, 'wb') as file:\n",
    "    pickle.dump(my_algorithm_rec, file)"
   ]
  }
 ],
 "metadata": {
  "kernelspec": {
   "display_name": "Python 3 (ipykernel)",
   "language": "python",
   "name": "python3"
  },
  "language_info": {
   "codemirror_mode": {
    "name": "ipython",
    "version": 3
   },
   "file_extension": ".py",
   "mimetype": "text/x-python",
   "name": "python",
   "nbconvert_exporter": "python",
   "pygments_lexer": "ipython3",
   "version": "3.11.5"
  }
 },
 "nbformat": 4,
 "nbformat_minor": 5
}
