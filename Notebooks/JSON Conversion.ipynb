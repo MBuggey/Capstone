{
 "cells": [
  {
   "cell_type": "markdown",
   "id": "7997a52f",
   "metadata": {},
   "source": [
    "# JSON Metadata Extraction\n",
    "---"
   ]
  },
  {
   "cell_type": "markdown",
   "id": "30de910e",
   "metadata": {},
   "source": [
    "Though this project aims to build an all purpose recommender algorithm it also seeks to be able to put a greater emphasis on Indie titles which it determines has good potential.  As a result the metadata included in the games_metadata.json file is rather important.  \n",
    "\n",
    "**References:**  \n",
    "\n",
    "Base understanding of how to convert a JSON file to csv was sourced from this StackOverflow [issue.](https://stackoverflow.com/questions/1871524/how-can-i-convert-json-to-csv)  Thankfully our JSON file appears to be structured so the basic syntax worked. \n",
    "\n",
    "For a more indepth understanding of reading JSON files, particularly unstructured ones I reffered to this [blog.](https://blog.enterprisedna.co/python-convert-json-to-csv/)\n",
    "\n",
    "\n",
    "\n"
   ]
  },
  {
   "cell_type": "code",
   "execution_count": 1,
   "id": "39bb2727",
   "metadata": {},
   "outputs": [],
   "source": [
    "import pandas as pd\n",
    "import json"
   ]
  },
  {
   "cell_type": "code",
   "execution_count": 18,
   "id": "22111eef",
   "metadata": {},
   "outputs": [],
   "source": [
    "df = pd.read_json('../Data/games_metadata.json', lines = True) # this JSON file is parsed similarily to a csv, lines=True makes\n",
    "# pandas aware of its formatting."
   ]
  },
  {
   "cell_type": "code",
   "execution_count": 22,
   "id": "9d02b190",
   "metadata": {},
   "outputs": [],
   "source": [
    "df.to_csv('../Data/metadata.csv', index = False) # Converting the loaded JSON file to a csv as I will be modifying it and do \n",
    "# not want to alter the original.  Additionally saving it to the Data folder."
   ]
  },
  {
   "cell_type": "code",
   "execution_count": 23,
   "id": "b89c403e",
   "metadata": {},
   "outputs": [],
   "source": [
    "data = pd.read_csv('../Data/metadata.csv')"
   ]
  },
  {
   "cell_type": "code",
   "execution_count": 24,
   "id": "7104e9c3",
   "metadata": {},
   "outputs": [
    {
     "data": {
      "text/html": [
       "<div>\n",
       "<style scoped>\n",
       "    .dataframe tbody tr th:only-of-type {\n",
       "        vertical-align: middle;\n",
       "    }\n",
       "\n",
       "    .dataframe tbody tr th {\n",
       "        vertical-align: top;\n",
       "    }\n",
       "\n",
       "    .dataframe thead th {\n",
       "        text-align: right;\n",
       "    }\n",
       "</style>\n",
       "<table border=\"1\" class=\"dataframe\">\n",
       "  <thead>\n",
       "    <tr style=\"text-align: right;\">\n",
       "      <th></th>\n",
       "      <th>app_id</th>\n",
       "      <th>description</th>\n",
       "      <th>tags</th>\n",
       "    </tr>\n",
       "  </thead>\n",
       "  <tbody>\n",
       "    <tr>\n",
       "      <th>0</th>\n",
       "      <td>13500</td>\n",
       "      <td>Enter the dark underworld of Prince of Persia ...</td>\n",
       "      <td>['Action', 'Adventure', 'Parkour', 'Third Pers...</td>\n",
       "    </tr>\n",
       "    <tr>\n",
       "      <th>1</th>\n",
       "      <td>22364</td>\n",
       "      <td>NaN</td>\n",
       "      <td>['Action']</td>\n",
       "    </tr>\n",
       "    <tr>\n",
       "      <th>2</th>\n",
       "      <td>113020</td>\n",
       "      <td>Monaco: What's Yours Is Mine is a single playe...</td>\n",
       "      <td>['Co-op', 'Stealth', 'Indie', 'Heist', 'Local ...</td>\n",
       "    </tr>\n",
       "    <tr>\n",
       "      <th>3</th>\n",
       "      <td>226560</td>\n",
       "      <td>Escape Dead Island is a Survival-Mystery adven...</td>\n",
       "      <td>['Zombies', 'Adventure', 'Survival', 'Action',...</td>\n",
       "    </tr>\n",
       "    <tr>\n",
       "      <th>4</th>\n",
       "      <td>249050</td>\n",
       "      <td>Dungeon of the Endless is a Rogue-Like Dungeon...</td>\n",
       "      <td>['Roguelike', 'Strategy', 'Tower Defense', 'Pi...</td>\n",
       "    </tr>\n",
       "    <tr>\n",
       "      <th>...</th>\n",
       "      <td>...</td>\n",
       "      <td>...</td>\n",
       "      <td>...</td>\n",
       "    </tr>\n",
       "    <tr>\n",
       "      <th>50867</th>\n",
       "      <td>2296380</td>\n",
       "      <td>NaN</td>\n",
       "      <td>[]</td>\n",
       "    </tr>\n",
       "    <tr>\n",
       "      <th>50868</th>\n",
       "      <td>1272080</td>\n",
       "      <td>NaN</td>\n",
       "      <td>[]</td>\n",
       "    </tr>\n",
       "    <tr>\n",
       "      <th>50869</th>\n",
       "      <td>1402110</td>\n",
       "      <td>NaN</td>\n",
       "      <td>[]</td>\n",
       "    </tr>\n",
       "    <tr>\n",
       "      <th>50870</th>\n",
       "      <td>2272250</td>\n",
       "      <td>Embark on a journey into the darkest nightmare...</td>\n",
       "      <td>['Early Access', 'FPS', 'Action', 'Retro', 'Fi...</td>\n",
       "    </tr>\n",
       "    <tr>\n",
       "      <th>50871</th>\n",
       "      <td>2488510</td>\n",
       "      <td>NaN</td>\n",
       "      <td>[]</td>\n",
       "    </tr>\n",
       "  </tbody>\n",
       "</table>\n",
       "<p>50872 rows × 3 columns</p>\n",
       "</div>"
      ],
      "text/plain": [
       "        app_id                                        description  \\\n",
       "0        13500  Enter the dark underworld of Prince of Persia ...   \n",
       "1        22364                                                NaN   \n",
       "2       113020  Monaco: What's Yours Is Mine is a single playe...   \n",
       "3       226560  Escape Dead Island is a Survival-Mystery adven...   \n",
       "4       249050  Dungeon of the Endless is a Rogue-Like Dungeon...   \n",
       "...        ...                                                ...   \n",
       "50867  2296380                                                NaN   \n",
       "50868  1272080                                                NaN   \n",
       "50869  1402110                                                NaN   \n",
       "50870  2272250  Embark on a journey into the darkest nightmare...   \n",
       "50871  2488510                                                NaN   \n",
       "\n",
       "                                                    tags  \n",
       "0      ['Action', 'Adventure', 'Parkour', 'Third Pers...  \n",
       "1                                             ['Action']  \n",
       "2      ['Co-op', 'Stealth', 'Indie', 'Heist', 'Local ...  \n",
       "3      ['Zombies', 'Adventure', 'Survival', 'Action',...  \n",
       "4      ['Roguelike', 'Strategy', 'Tower Defense', 'Pi...  \n",
       "...                                                  ...  \n",
       "50867                                                 []  \n",
       "50868                                                 []  \n",
       "50869                                                 []  \n",
       "50870  ['Early Access', 'FPS', 'Action', 'Retro', 'Fi...  \n",
       "50871                                                 []  \n",
       "\n",
       "[50872 rows x 3 columns]"
      ]
     },
     "execution_count": 24,
     "metadata": {},
     "output_type": "execute_result"
    }
   ],
   "source": [
    "data"
   ]
  },
  {
   "cell_type": "markdown",
   "id": "d29dc3ca",
   "metadata": {},
   "source": [
    "### File Issues/Breakdown\n",
    "---\n",
    "The JSON file consists of 3 columns\n",
    "\n",
    "**app_id:**  Unique game id used for tying back any pertinent information in this csv to the original games.csv\n",
    "\n",
    "**description:** Description of the game.  Not every entry has a description and they are long descriptive strings for the most part.  Could potentially be useful but for now it is the column I most expect to drop.\n",
    "\n",
    "**tags:** Individual tags used to describe games, they appear to be stored in a Python list format.  This is the information I am most interested in and will most likely have to spend a fair amount of time cleaning.  Additionally like description not all games have tags.\n",
    "\n",
    "The next step of the process is cleaning the data so that I can merge it with my games.csv to get stronger insights."
   ]
  },
  {
   "cell_type": "code",
   "execution_count": null,
   "id": "3eb9af36",
   "metadata": {},
   "outputs": [],
   "source": []
  },
  {
   "cell_type": "code",
   "execution_count": null,
   "id": "d227e00f",
   "metadata": {},
   "outputs": [],
   "source": []
  },
  {
   "cell_type": "code",
   "execution_count": null,
   "id": "ec77c746",
   "metadata": {},
   "outputs": [],
   "source": []
  },
  {
   "cell_type": "code",
   "execution_count": null,
   "id": "ea060995",
   "metadata": {},
   "outputs": [],
   "source": []
  }
 ],
 "metadata": {
  "kernelspec": {
   "display_name": "Python 3 (ipykernel)",
   "language": "python",
   "name": "python3"
  },
  "language_info": {
   "codemirror_mode": {
    "name": "ipython",
    "version": 3
   },
   "file_extension": ".py",
   "mimetype": "text/x-python",
   "name": "python",
   "nbconvert_exporter": "python",
   "pygments_lexer": "ipython3",
   "version": "3.11.5"
  }
 },
 "nbformat": 4,
 "nbformat_minor": 5
}
